{
 "cells": [
  {
   "cell_type": "markdown",
   "metadata": {},
   "source": [
    "# Machine Learning Example With Cars 93 Dataset + Sklearn Learn Pipeline"
   ]
  },
  {
   "cell_type": "code",
   "execution_count": 104,
   "metadata": {},
   "outputs": [],
   "source": [
    "#All imports included here\n",
    "import pandas as pd\n",
    "import matplotlib.pyplot as plt\n",
    "import pickle\n",
    "from pandas_profiling import ProfileReport\n",
    "import numpy as np\n",
    "import os\n",
    "import pandas as pd \n",
    "import numpy as np\n",
    "from sklearn.preprocessing import StandardScaler\n",
    "from sklearn.linear_model import Ridge,Lasso ,RidgeCV,LassoCV , ElasticNet , ElasticNetCV, LinearRegression\n",
    "from sklearn.model_selection import train_test_split\n",
    "import statsmodels.api as sm \n",
    "import matplotlib.pyplot as plt\n",
    "import seaborn as sns\n",
    "import statsmodels.formula.api as smf\n",
    "os.chdir('/Users/rahulbanerjee/Rahul/ETL_HIVE/SQL')\n",
    "#Import all pipeline dependency here\n",
    "from sklearn.pipeline import Pipeline\n",
    "from sklearn.impute import SimpleImputer\n",
    "from sklearn.preprocessing import StandardScaler,OrdinalEncoder\n",
    "from sklearn.compose import ColumnTransformer"
   ]
  },
  {
   "cell_type": "code",
   "execution_count": 2,
   "metadata": {},
   "outputs": [],
   "source": [
    "import pandas as pd\n",
    "card_93_df = pd.read_csv('Cars93.csv')"
   ]
  },
  {
   "cell_type": "markdown",
   "metadata": {},
   "source": [
    "# Starting with EDA"
   ]
  },
  {
   "cell_type": "code",
   "execution_count": 3,
   "metadata": {},
   "outputs": [],
   "source": [
    "pf = ProfileReport(card_93_df)"
   ]
  },
  {
   "cell_type": "code",
   "execution_count": 4,
   "metadata": {},
   "outputs": [
    {
     "data": {
      "application/vnd.jupyter.widget-view+json": {
       "model_id": "0f43484ac573451d8ba805414e80f27b",
       "version_major": 2,
       "version_minor": 0
      },
      "text/plain": [
       "HBox(children=(HTML(value='Summarize dataset'), FloatProgress(value=0.0, max=41.0), HTML(value='')))"
      ]
     },
     "metadata": {},
     "output_type": "display_data"
    },
    {
     "name": "stdout",
     "output_type": "stream",
     "text": [
      "\n"
     ]
    },
    {
     "data": {
      "application/vnd.jupyter.widget-view+json": {
       "model_id": "e556b8ea709a49eba5d1f9205b719405",
       "version_major": 2,
       "version_minor": 0
      },
      "text/plain": [
       "HBox(children=(HTML(value='Generate report structure'), FloatProgress(value=0.0, max=1.0), HTML(value='')))"
      ]
     },
     "metadata": {},
     "output_type": "display_data"
    },
    {
     "name": "stdout",
     "output_type": "stream",
     "text": [
      "\n"
     ]
    },
    {
     "data": {
      "application/vnd.jupyter.widget-view+json": {
       "model_id": "",
       "version_major": 2,
       "version_minor": 0
      },
      "text/plain": [
       "HBox(children=(HTML(value='Render widgets'), FloatProgress(value=0.0, max=1.0), HTML(value='')))"
      ]
     },
     "metadata": {},
     "output_type": "display_data"
    },
    {
     "data": {
      "application/vnd.jupyter.widget-view+json": {
       "model_id": "142030356eff4bf491e5b83052b66c14",
       "version_major": 2,
       "version_minor": 0
      },
      "text/plain": [
       "VBox(children=(Tab(children=(Tab(children=(GridBox(children=(VBox(children=(GridspecLayout(children=(HTML(valu…"
      ]
     },
     "metadata": {},
     "output_type": "display_data"
    }
   ],
   "source": [
    "pf.to_widgets()"
   ]
  },
  {
   "cell_type": "markdown",
   "metadata": {},
   "source": [
    "# Define X and Y as the feature and label"
   ]
  },
  {
   "cell_type": "code",
   "execution_count": 105,
   "metadata": {},
   "outputs": [],
   "source": [
    "y= card_93_df['Price']"
   ]
  },
  {
   "cell_type": "code",
   "execution_count": 106,
   "metadata": {},
   "outputs": [],
   "source": [
    "x= card_93_df.drop(['Price','id','Min.Price'],axis=1)"
   ]
  },
  {
   "cell_type": "markdown",
   "metadata": {},
   "source": [
    "# Pre-processing"
   ]
  },
  {
   "cell_type": "code",
   "execution_count": 107,
   "metadata": {},
   "outputs": [],
   "source": [
    "#Find missing values and remove the same\n",
    "#x.isna().sum()\n",
    "for i in x.columns:\n",
    "    if x[i].dtypes=='object':\n",
    "        x[i]=x[i].fillna(x[i].mode()[0])\n",
    "    else:\n",
    "        x[i]=x[i].fillna(x[i].median())"
   ]
  },
  {
   "cell_type": "code",
   "execution_count": 108,
   "metadata": {},
   "outputs": [],
   "source": [
    "#Breaking into cat and con vaiables\n",
    "cat=[]\n",
    "con=[]\n",
    "\n",
    "for i in x.columns:\n",
    "    if x[i].dtypes=='object':\n",
    "        cat.append(i)\n",
    "    else:\n",
    "        con.append(i)"
   ]
  },
  {
   "cell_type": "code",
   "execution_count": 109,
   "metadata": {},
   "outputs": [],
   "source": [
    "con_df = pd.DataFrame(x,columns=con)"
   ]
  },
  {
   "cell_type": "markdown",
   "metadata": {},
   "source": [
    "# Looking at OLS model for Feature selection"
   ]
  },
  {
   "cell_type": "code",
   "execution_count": 110,
   "metadata": {},
   "outputs": [],
   "source": [
    "from statsmodels.api import add_constant,OLS\n",
    "ols=OLS(y,add_constant(con_df))"
   ]
  },
  {
   "cell_type": "code",
   "execution_count": 111,
   "metadata": {},
   "outputs": [],
   "source": [
    "#For continous data only.\n",
    "model=ols.fit()"
   ]
  },
  {
   "cell_type": "code",
   "execution_count": 112,
   "metadata": {},
   "outputs": [],
   "source": [
    "#Take the first 10 values wrt to the P Value in ascending order\n",
    "updated_col=model.pvalues.sort_values(ascending=True).index\n",
    "updated_con_col = updated_col[0:12] \n",
    "updated_con_col = list(updated_con_col.drop('const'))"
   ]
  },
  {
   "cell_type": "code",
   "execution_count": 113,
   "metadata": {},
   "outputs": [],
   "source": [
    "#Now we have the selected continous columns  + cat columns\n",
    "selected_columns = updated_con_col + cat"
   ]
  },
  {
   "cell_type": "code",
   "execution_count": 136,
   "metadata": {},
   "outputs": [],
   "source": [
    "#Now build the pipeline\n",
    "num_pipe=Pipeline(steps=[('impute',SimpleImputer(strategy='median')),('scalar',StandardScaler())])\n",
    "cat_pipe=Pipeline(steps=[('impute',SimpleImputer(strategy='most_frequent')),('Encode',OrdinalEncoder())])"
   ]
  },
  {
   "cell_type": "code",
   "execution_count": 137,
   "metadata": {},
   "outputs": [
    {
     "data": {
      "text/plain": [
       "ColumnTransformer(transformers=[('num_pipe',\n",
       "                                 Pipeline(steps=[('impute',\n",
       "                                                  SimpleImputer(strategy='median')),\n",
       "                                                 ('scalar', StandardScaler())]),\n",
       "                                 ['Max.Price', 'Rear.seat.room', 'Passengers',\n",
       "                                  'Length', 'EngineSize', 'Width', 'Horsepower',\n",
       "                                  'Turn.circle', 'MPG.highway', 'Rev.per.mile',\n",
       "                                  'Fuel.tank.capacity']),\n",
       "                                ('cat_pipe',\n",
       "                                 Pipeline(steps=[('impute',\n",
       "                                                  SimpleImputer(strategy='most_frequent')),\n",
       "                                                 ('Encode', OrdinalEncoder())]),\n",
       "                                 ['Manufacturer', 'Model', 'Type', 'AirBags',\n",
       "                                  'DriveTrain', 'Cylinders', 'Man.trans.avail',\n",
       "                                  'Origin', 'Make'])])"
      ]
     },
     "execution_count": 137,
     "metadata": {},
     "output_type": "execute_result"
    }
   ],
   "source": [
    "#Now join the values\n",
    "columnTransformer=ColumnTransformer([('num_pipe',num_pipe,updated_con_col),('cat_pipe',cat_pipe,cat)])\n",
    "columnTransformer"
   ]
  },
  {
   "cell_type": "code",
   "execution_count": 138,
   "metadata": {},
   "outputs": [],
   "source": [
    "#Now join the values and using fit transform().\n",
    "selected_df=pd.DataFrame(columnTransformer.fit_transform(x),columns=selected_columns)"
   ]
  },
  {
   "cell_type": "code",
   "execution_count": 117,
   "metadata": {},
   "outputs": [
    {
     "data": {
      "text/html": [
       "<div>\n",
       "<style scoped>\n",
       "    .dataframe tbody tr th:only-of-type {\n",
       "        vertical-align: middle;\n",
       "    }\n",
       "\n",
       "    .dataframe tbody tr th {\n",
       "        vertical-align: top;\n",
       "    }\n",
       "\n",
       "    .dataframe thead th {\n",
       "        text-align: right;\n",
       "    }\n",
       "</style>\n",
       "<table border=\"1\" class=\"dataframe\">\n",
       "  <thead>\n",
       "    <tr style=\"text-align: right;\">\n",
       "      <th></th>\n",
       "      <th>Max.Price</th>\n",
       "      <th>Rear.seat.room</th>\n",
       "      <th>Passengers</th>\n",
       "      <th>Length</th>\n",
       "      <th>EngineSize</th>\n",
       "      <th>Width</th>\n",
       "      <th>Horsepower</th>\n",
       "      <th>Turn.circle</th>\n",
       "      <th>MPG.highway</th>\n",
       "      <th>Rev.per.mile</th>\n",
       "      <th>Fuel.tank.capacity</th>\n",
       "      <th>Manufacturer</th>\n",
       "      <th>Model</th>\n",
       "      <th>Type</th>\n",
       "      <th>AirBags</th>\n",
       "      <th>DriveTrain</th>\n",
       "      <th>Cylinders</th>\n",
       "      <th>Man.trans.avail</th>\n",
       "      <th>Origin</th>\n",
       "      <th>Make</th>\n",
       "    </tr>\n",
       "  </thead>\n",
       "  <tbody>\n",
       "    <tr>\n",
       "      <th>0</th>\n",
       "      <td>-0.282465</td>\n",
       "      <td>-0.449727</td>\n",
       "      <td>-0.083243</td>\n",
       "      <td>-0.427186</td>\n",
       "      <td>-0.841022</td>\n",
       "      <td>-0.366184</td>\n",
       "      <td>-0.073484</td>\n",
       "      <td>-0.610436</td>\n",
       "      <td>0.360925</td>\n",
       "      <td>1.129530</td>\n",
       "      <td>-1.062184</td>\n",
       "      <td>0.0</td>\n",
       "      <td>48.0</td>\n",
       "      <td>3.0</td>\n",
       "      <td>2.0</td>\n",
       "      <td>1.0</td>\n",
       "      <td>1.0</td>\n",
       "      <td>1.0</td>\n",
       "      <td>1.0</td>\n",
       "      <td>0.0</td>\n",
       "    </tr>\n",
       "    <tr>\n",
       "      <th>1</th>\n",
       "      <td>1.531409</td>\n",
       "      <td>0.740403</td>\n",
       "      <td>-0.083243</td>\n",
       "      <td>0.812171</td>\n",
       "      <td>0.515869</td>\n",
       "      <td>0.431983</td>\n",
       "      <td>1.078322</td>\n",
       "      <td>-0.298510</td>\n",
       "      <td>-0.770514</td>\n",
       "      <td>0.005661</td>\n",
       "      <td>0.409445</td>\n",
       "      <td>0.0</td>\n",
       "      <td>55.0</td>\n",
       "      <td>2.0</td>\n",
       "      <td>0.0</td>\n",
       "      <td>1.0</td>\n",
       "      <td>3.0</td>\n",
       "      <td>1.0</td>\n",
       "      <td>1.0</td>\n",
       "      <td>1.0</td>\n",
       "    </tr>\n",
       "    <tr>\n",
       "      <th>2</th>\n",
       "      <td>0.948052</td>\n",
       "      <td>0.060329</td>\n",
       "      <td>-0.083243</td>\n",
       "      <td>-0.220626</td>\n",
       "      <td>0.128186</td>\n",
       "      <td>-0.632239</td>\n",
       "      <td>0.540813</td>\n",
       "      <td>-0.610436</td>\n",
       "      <td>-0.581941</td>\n",
       "      <td>-0.105713</td>\n",
       "      <td>0.072197</td>\n",
       "      <td>1.0</td>\n",
       "      <td>8.0</td>\n",
       "      <td>0.0</td>\n",
       "      <td>1.0</td>\n",
       "      <td>1.0</td>\n",
       "      <td>3.0</td>\n",
       "      <td>1.0</td>\n",
       "      <td>1.0</td>\n",
       "      <td>3.0</td>\n",
       "    </tr>\n",
       "    <tr>\n",
       "      <th>3</th>\n",
       "      <td>2.069191</td>\n",
       "      <td>1.080441</td>\n",
       "      <td>0.884457</td>\n",
       "      <td>0.674465</td>\n",
       "      <td>0.128186</td>\n",
       "      <td>0.165927</td>\n",
       "      <td>0.540813</td>\n",
       "      <td>-0.610436</td>\n",
       "      <td>-0.581941</td>\n",
       "      <td>0.410659</td>\n",
       "      <td>1.359872</td>\n",
       "      <td>1.0</td>\n",
       "      <td>0.0</td>\n",
       "      <td>2.0</td>\n",
       "      <td>1.0</td>\n",
       "      <td>1.0</td>\n",
       "      <td>3.0</td>\n",
       "      <td>1.0</td>\n",
       "      <td>1.0</td>\n",
       "      <td>2.0</td>\n",
       "    </tr>\n",
       "    <tr>\n",
       "      <th>4</th>\n",
       "      <td>1.303535</td>\n",
       "      <td>-0.279708</td>\n",
       "      <td>-1.050944</td>\n",
       "      <td>0.192493</td>\n",
       "      <td>0.806631</td>\n",
       "      <td>-0.100128</td>\n",
       "      <td>1.231897</td>\n",
       "      <td>0.013416</td>\n",
       "      <td>0.172352</td>\n",
       "      <td>0.430909</td>\n",
       "      <td>1.359872</td>\n",
       "      <td>2.0</td>\n",
       "      <td>5.0</td>\n",
       "      <td>2.0</td>\n",
       "      <td>1.0</td>\n",
       "      <td>2.0</td>\n",
       "      <td>1.0</td>\n",
       "      <td>1.0</td>\n",
       "      <td>1.0</td>\n",
       "      <td>4.0</td>\n",
       "    </tr>\n",
       "    <tr>\n",
       "      <th>...</th>\n",
       "      <td>...</td>\n",
       "      <td>...</td>\n",
       "      <td>...</td>\n",
       "      <td>...</td>\n",
       "      <td>...</td>\n",
       "      <td>...</td>\n",
       "      <td>...</td>\n",
       "      <td>...</td>\n",
       "      <td>...</td>\n",
       "      <td>...</td>\n",
       "      <td>...</td>\n",
       "      <td>...</td>\n",
       "      <td>...</td>\n",
       "      <td>...</td>\n",
       "      <td>...</td>\n",
       "      <td>...</td>\n",
       "      <td>...</td>\n",
       "      <td>...</td>\n",
       "      <td>...</td>\n",
       "      <td>...</td>\n",
       "    </tr>\n",
       "    <tr>\n",
       "      <th>88</th>\n",
       "      <td>0.073018</td>\n",
       "      <td>2.100552</td>\n",
       "      <td>1.852158</td>\n",
       "      <td>0.261346</td>\n",
       "      <td>-0.162577</td>\n",
       "      <td>0.698038</td>\n",
       "      <td>-0.668585</td>\n",
       "      <td>-0.298510</td>\n",
       "      <td>-1.524806</td>\n",
       "      <td>1.180155</td>\n",
       "      <td>1.359872</td>\n",
       "      <td>30.0</td>\n",
       "      <td>41.0</td>\n",
       "      <td>5.0</td>\n",
       "      <td>2.0</td>\n",
       "      <td>1.0</td>\n",
       "      <td>2.0</td>\n",
       "      <td>1.0</td>\n",
       "      <td>1.0</td>\n",
       "      <td>88.0</td>\n",
       "    </tr>\n",
       "    <tr>\n",
       "      <th>89</th>\n",
       "      <td>0.045673</td>\n",
       "      <td>1.250459</td>\n",
       "      <td>-0.083243</td>\n",
       "      <td>-0.220626</td>\n",
       "      <td>-0.647181</td>\n",
       "      <td>-0.632239</td>\n",
       "      <td>-0.188665</td>\n",
       "      <td>-1.234288</td>\n",
       "      <td>0.172352</td>\n",
       "      <td>0.714407</td>\n",
       "      <td>0.562740</td>\n",
       "      <td>30.0</td>\n",
       "      <td>64.0</td>\n",
       "      <td>0.0</td>\n",
       "      <td>2.0</td>\n",
       "      <td>1.0</td>\n",
       "      <td>1.0</td>\n",
       "      <td>1.0</td>\n",
       "      <td>1.0</td>\n",
       "      <td>90.0</td>\n",
       "    </tr>\n",
       "    <tr>\n",
       "      <th>90</th>\n",
       "      <td>0.164167</td>\n",
       "      <td>-0.619745</td>\n",
       "      <td>-1.050944</td>\n",
       "      <td>-1.666543</td>\n",
       "      <td>0.128186</td>\n",
       "      <td>-0.898295</td>\n",
       "      <td>0.655993</td>\n",
       "      <td>-0.922362</td>\n",
       "      <td>-0.770514</td>\n",
       "      <td>0.106911</td>\n",
       "      <td>0.562740</td>\n",
       "      <td>30.0</td>\n",
       "      <td>28.0</td>\n",
       "      <td>4.0</td>\n",
       "      <td>2.0</td>\n",
       "      <td>1.0</td>\n",
       "      <td>3.0</td>\n",
       "      <td>1.0</td>\n",
       "      <td>1.0</td>\n",
       "      <td>87.0</td>\n",
       "    </tr>\n",
       "    <tr>\n",
       "      <th>91</th>\n",
       "      <td>0.145937</td>\n",
       "      <td>0.570385</td>\n",
       "      <td>-0.083243</td>\n",
       "      <td>0.467905</td>\n",
       "      <td>-0.356418</td>\n",
       "      <td>-0.632239</td>\n",
       "      <td>-0.572601</td>\n",
       "      <td>-0.610436</td>\n",
       "      <td>-0.204794</td>\n",
       "      <td>-0.237337</td>\n",
       "      <td>-0.265051</td>\n",
       "      <td>31.0</td>\n",
       "      <td>2.0</td>\n",
       "      <td>0.0</td>\n",
       "      <td>1.0</td>\n",
       "      <td>2.0</td>\n",
       "      <td>1.0</td>\n",
       "      <td>1.0</td>\n",
       "      <td>1.0</td>\n",
       "      <td>91.0</td>\n",
       "    </tr>\n",
       "    <tr>\n",
       "      <th>92</th>\n",
       "      <td>0.601684</td>\n",
       "      <td>0.740403</td>\n",
       "      <td>-0.083243</td>\n",
       "      <td>0.054786</td>\n",
       "      <td>-0.259498</td>\n",
       "      <td>-0.100128</td>\n",
       "      <td>0.464025</td>\n",
       "      <td>-0.298510</td>\n",
       "      <td>-0.204794</td>\n",
       "      <td>-0.044963</td>\n",
       "      <td>0.808011</td>\n",
       "      <td>31.0</td>\n",
       "      <td>7.0</td>\n",
       "      <td>2.0</td>\n",
       "      <td>0.0</td>\n",
       "      <td>1.0</td>\n",
       "      <td>2.0</td>\n",
       "      <td>1.0</td>\n",
       "      <td>1.0</td>\n",
       "      <td>92.0</td>\n",
       "    </tr>\n",
       "  </tbody>\n",
       "</table>\n",
       "<p>93 rows × 20 columns</p>\n",
       "</div>"
      ],
      "text/plain": [
       "    Max.Price  Rear.seat.room  Passengers    Length  EngineSize     Width  \\\n",
       "0   -0.282465       -0.449727   -0.083243 -0.427186   -0.841022 -0.366184   \n",
       "1    1.531409        0.740403   -0.083243  0.812171    0.515869  0.431983   \n",
       "2    0.948052        0.060329   -0.083243 -0.220626    0.128186 -0.632239   \n",
       "3    2.069191        1.080441    0.884457  0.674465    0.128186  0.165927   \n",
       "4    1.303535       -0.279708   -1.050944  0.192493    0.806631 -0.100128   \n",
       "..        ...             ...         ...       ...         ...       ...   \n",
       "88   0.073018        2.100552    1.852158  0.261346   -0.162577  0.698038   \n",
       "89   0.045673        1.250459   -0.083243 -0.220626   -0.647181 -0.632239   \n",
       "90   0.164167       -0.619745   -1.050944 -1.666543    0.128186 -0.898295   \n",
       "91   0.145937        0.570385   -0.083243  0.467905   -0.356418 -0.632239   \n",
       "92   0.601684        0.740403   -0.083243  0.054786   -0.259498 -0.100128   \n",
       "\n",
       "    Horsepower  Turn.circle  MPG.highway  Rev.per.mile  Fuel.tank.capacity  \\\n",
       "0    -0.073484    -0.610436     0.360925      1.129530           -1.062184   \n",
       "1     1.078322    -0.298510    -0.770514      0.005661            0.409445   \n",
       "2     0.540813    -0.610436    -0.581941     -0.105713            0.072197   \n",
       "3     0.540813    -0.610436    -0.581941      0.410659            1.359872   \n",
       "4     1.231897     0.013416     0.172352      0.430909            1.359872   \n",
       "..         ...          ...          ...           ...                 ...   \n",
       "88   -0.668585    -0.298510    -1.524806      1.180155            1.359872   \n",
       "89   -0.188665    -1.234288     0.172352      0.714407            0.562740   \n",
       "90    0.655993    -0.922362    -0.770514      0.106911            0.562740   \n",
       "91   -0.572601    -0.610436    -0.204794     -0.237337           -0.265051   \n",
       "92    0.464025    -0.298510    -0.204794     -0.044963            0.808011   \n",
       "\n",
       "    Manufacturer  Model  Type  AirBags  DriveTrain  Cylinders  \\\n",
       "0            0.0   48.0   3.0      2.0         1.0        1.0   \n",
       "1            0.0   55.0   2.0      0.0         1.0        3.0   \n",
       "2            1.0    8.0   0.0      1.0         1.0        3.0   \n",
       "3            1.0    0.0   2.0      1.0         1.0        3.0   \n",
       "4            2.0    5.0   2.0      1.0         2.0        1.0   \n",
       "..           ...    ...   ...      ...         ...        ...   \n",
       "88          30.0   41.0   5.0      2.0         1.0        2.0   \n",
       "89          30.0   64.0   0.0      2.0         1.0        1.0   \n",
       "90          30.0   28.0   4.0      2.0         1.0        3.0   \n",
       "91          31.0    2.0   0.0      1.0         2.0        1.0   \n",
       "92          31.0    7.0   2.0      0.0         1.0        2.0   \n",
       "\n",
       "    Man.trans.avail  Origin  Make  \n",
       "0               1.0     1.0   0.0  \n",
       "1               1.0     1.0   1.0  \n",
       "2               1.0     1.0   3.0  \n",
       "3               1.0     1.0   2.0  \n",
       "4               1.0     1.0   4.0  \n",
       "..              ...     ...   ...  \n",
       "88              1.0     1.0  88.0  \n",
       "89              1.0     1.0  90.0  \n",
       "90              1.0     1.0  87.0  \n",
       "91              1.0     1.0  91.0  \n",
       "92              1.0     1.0  92.0  \n",
       "\n",
       "[93 rows x 20 columns]"
      ]
     },
     "execution_count": 117,
     "metadata": {},
     "output_type": "execute_result"
    }
   ],
   "source": [
    " selected_df"
   ]
  },
  {
   "cell_type": "code",
   "execution_count": 153,
   "metadata": {},
   "outputs": [],
   "source": [
    "#Apply Train Test Split \n",
    "from sklearn.model_selection import train_test_split\n",
    "x_train,x_test,y_train,y_test=train_test_split(selected_df,y,test_size=0.20,random_state=21)"
   ]
  },
  {
   "cell_type": "code",
   "execution_count": 154,
   "metadata": {},
   "outputs": [
    {
     "data": {
      "text/plain": [
       "LinearRegression()"
      ]
     },
     "execution_count": 154,
     "metadata": {},
     "output_type": "execute_result"
    }
   ],
   "source": [
    "#Model Building\n",
    "from sklearn.linear_model import LinearRegression\n",
    "lm=LinearRegression()\n",
    "lm.fit(x_train,y_train)"
   ]
  },
  {
   "cell_type": "code",
   "execution_count": 155,
   "metadata": {},
   "outputs": [
    {
     "data": {
      "text/plain": [
       "0.9753087395587918"
      ]
     },
     "execution_count": 155,
     "metadata": {},
     "output_type": "execute_result"
    }
   ],
   "source": [
    "lm.score(x_test,y_test)"
   ]
  },
  {
   "cell_type": "code",
   "execution_count": 156,
   "metadata": {},
   "outputs": [],
   "source": [
    "#Trying to predict with one sample record ion the test .\n",
    "single_test = pd.DataFrame(x_test.iloc[:1,:],columns=selected_columns)\n",
    "#Predicted Value for x_train\n",
    "y_pred_train=lm.predict(single_test)"
   ]
  },
  {
   "cell_type": "code",
   "execution_count": 122,
   "metadata": {},
   "outputs": [
    {
     "data": {
      "text/plain": [
       "array([17.23177023])"
      ]
     },
     "execution_count": 122,
     "metadata": {},
     "output_type": "execute_result"
    }
   ],
   "source": [
    "y_pred_train"
   ]
  },
  {
   "cell_type": "code",
   "execution_count": 98,
   "metadata": {},
   "outputs": [],
   "source": [
    "#Now trying a randon value from the original data set x"
   ]
  },
  {
   "cell_type": "code",
   "execution_count": 157,
   "metadata": {},
   "outputs": [],
   "source": [
    "#Transforming the original data set using transform only & not fit transform\n",
    "x_sub_set_df =pd.DataFrame(columnTransformer.transform(x.iloc[0:99,:]),columns=selected_columns)"
   ]
  },
  {
   "cell_type": "code",
   "execution_count": 158,
   "metadata": {},
   "outputs": [],
   "source": [
    "x_sub_set_y = lm.predict(x_sub_set_df)"
   ]
  },
  {
   "cell_type": "code",
   "execution_count": 159,
   "metadata": {
    "scrolled": true
   },
   "outputs": [
    {
     "data": {
      "text/plain": [
       "array([15.75552668, 34.84427802, 29.15413921, 37.71225336, 30.88077146,\n",
       "       14.77199042, 20.59871034, 24.41515847, 24.56414963, 34.11925284,\n",
       "       40.02453709, 14.63797587, 10.25078357, 16.24566207, 15.50766697,\n",
       "       16.08550918, 16.54546289, 20.84057015, 38.10926443, 18.59916254,\n",
       "       16.24869014, 27.74502367,  9.94071558, 12.63530302, 13.59483443,\n",
       "       20.27954924, 14.86701903, 28.42777506, 13.43385348, 21.66153137,\n",
       "        7.27005893, 10.04374084, 11.43361579, 17.42105288, 12.28877597,\n",
       "       20.38886926, 22.97276486, 21.76625188,  7.83038286, 12.08500485,\n",
       "       19.29565713, 12.5954729 , 19.08845325,  8.8333048 , 10.55085055,\n",
       "       10.57774219, 13.57937858, 45.98692274, 26.19006984, 33.20882215,\n",
       "       31.08734394, 34.97038765,  7.70233786, 10.36595609, 16.09244824,\n",
       "       19.86392908, 32.0664052 , 28.08636522, 64.73412617, 12.17906299,\n",
       "       16.23280098, 10.66324929, 27.90192075, 13.24981386, 15.98705968,\n",
       "       19.25451761, 22.42171779, 13.28621775, 15.75449079, 18.09878628,\n",
       "       20.6309789 , 13.45118708,  9.06785261, 11.73163587, 19.62213474,\n",
       "       20.06222971, 25.00884624, 30.42265298,  9.90105258,  7.9216989 ,\n",
       "       11.74456412, 19.26913247,  9.27017082, 11.31610684, 18.03305819,\n",
       "       17.9042011 , 21.80804665,  9.8446559 , 20.10422858, 20.14913289,\n",
       "       22.83427114, 20.71663097, 25.16270209])"
      ]
     },
     "execution_count": 159,
     "metadata": {},
     "output_type": "execute_result"
    }
   ],
   "source": [
    "x_sub_set_y"
   ]
  },
  {
   "cell_type": "code",
   "execution_count": null,
   "metadata": {},
   "outputs": [],
   "source": []
  }
 ],
 "metadata": {
  "kernelspec": {
   "display_name": "Python 3",
   "language": "python",
   "name": "python3"
  },
  "language_info": {
   "codemirror_mode": {
    "name": "ipython",
    "version": 3
   },
   "file_extension": ".py",
   "mimetype": "text/x-python",
   "name": "python",
   "nbconvert_exporter": "python",
   "pygments_lexer": "ipython3",
   "version": "3.8.5"
  }
 },
 "nbformat": 4,
 "nbformat_minor": 4
}
